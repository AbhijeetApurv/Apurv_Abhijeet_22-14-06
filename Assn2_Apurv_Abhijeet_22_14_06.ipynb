{
  "nbformat": 4,
  "nbformat_minor": 0,
  "metadata": {
    "colab": {
      "provenance": []
    },
    "kernelspec": {
      "name": "python3",
      "display_name": "Python 3"
    },
    "language_info": {
      "name": "python"
    }
  },
  "cells": [
    {
      "cell_type": "code",
      "source": [
        "import pandas as pd   #importing pandas for dataframe\n"
      ],
      "metadata": {
        "id": "Q23w5TmrAdb8"
      },
      "execution_count": null,
      "outputs": []
    },
    {
      "cell_type": "markdown",
      "source": [
        "1 Read the housingdata.csv file into pandas DataFrame and display first six rows of the DataFrame"
      ],
      "metadata": {
        "id": "Rdt9SfvFnnca"
      }
    },
    {
      "cell_type": "code",
      "source": [
        "df = pd.read_csv(\"D:\\Study\\DSTT\\housingdata.csv\")  #reading data and storing in a dataframe\n",
        "df"
      ],
      "metadata": {
        "id": "zss72P8Hn9wZ"
      },
      "execution_count": null,
      "outputs": []
    },
    {
      "cell_type": "markdown",
      "source": [
        "2 Display the column names and row index in separate cells."
      ],
      "metadata": {
        "id": "QoG4oNr0oE99"
      }
    },
    {
      "cell_type": "code",
      "source": [
        "df.columns   #no of columns"
      ],
      "metadata": {
        "id": "sTa-G9rQoKH-"
      },
      "execution_count": null,
      "outputs": []
    },
    {
      "cell_type": "code",
      "source": [
        "df.index    #indexes"
      ],
      "metadata": {
        "id": "zAse1ytaov6G"
      },
      "execution_count": null,
      "outputs": []
    },
    {
      "cell_type": "markdown",
      "source": [
        "3 a) How many numbers of “STATE” exist in the dataset. Hint: use shape"
      ],
      "metadata": {
        "id": "AB2n-CW1oxJS"
      }
    },
    {
      "cell_type": "code",
      "source": [
        "df['STATE'].value_counts()   #each state count"
      ],
      "metadata": {
        "id": "oyVTBT7Bo1fZ"
      },
      "execution_count": null,
      "outputs": []
    },
    {
      "cell_type": "markdown",
      "source": [
        "b) How many unique states exist in the dataset"
      ],
      "metadata": {
        "id": "jYLDiLODpC__"
      }
    },
    {
      "cell_type": "code",
      "source": [
        "n = len(pd.unique(df['STATE']))    #no of unique states\n",
        "print(n)"
      ],
      "metadata": {
        "id": "qPrVUUVOpB5q"
      },
      "execution_count": null,
      "outputs": []
    },
    {
      "cell_type": "markdown",
      "source": [
        "4 Retrieve the list of all NaN/Null/Empty cells in the form of Boolean list"
      ],
      "metadata": {
        "id": "73FTaI8TpSLU"
      }
    },
    {
      "cell_type": "code",
      "source": [
        "df    #checking different values in dataframe"
      ],
      "metadata": {
        "id": "5wUxBOz2vZ1K"
      },
      "execution_count": null,
      "outputs": []
    },
    {
      "cell_type": "code",
      "source": [
        "df.replace('na',np.NaN, inplace=True)     #replace 'na' with NaN\n",
        "df.replace('--',np.NaN, inplace=True)     #replace '--' with NaN"
      ],
      "metadata": {
        "id": "luo50F6Lpxj5"
      },
      "execution_count": null,
      "outputs": []
    },
    {
      "cell_type": "code",
      "source": [
        "df.isnull()        #check for null"
      ],
      "metadata": {
        "id": "2YiactzQpXkW"
      },
      "execution_count": null,
      "outputs": []
    },
    {
      "cell_type": "markdown",
      "source": [
        "5 Drop all rows with N/A,NA,na values in Num_Bedrooms"
      ],
      "metadata": {
        "id": "sa0JBe3MqIwg"
      }
    },
    {
      "cell_type": "code",
      "source": [
        "df=df.dropna(subset='NUM_BEDROOMS')      #dropping the NaN    \n",
        "df"
      ],
      "metadata": {
        "id": "VouaicPOqNza"
      },
      "execution_count": null,
      "outputs": []
    },
    {
      "cell_type": "markdown",
      "source": [
        "6 Replace the NaN and String entries in Num_Bath with previous entry"
      ],
      "metadata": {
        "id": "ZopqpSOtqbDZ"
      }
    },
    {
      "cell_type": "code",
      "source": [
        "df['NUM_BATH']=df['NUM_BATH'].fillna(method='ffill')      #string data not converted\n",
        "df"
      ],
      "metadata": {
        "id": "9mrPS9fbqesf"
      },
      "execution_count": null,
      "outputs": []
    },
    {
      "cell_type": "markdown",
      "source": [],
      "metadata": {
        "id": "6kZf3DX9rgpM"
      }
    },
    {
      "cell_type": "code",
      "source": [
        "df.loc[6,'NUM_BATH']=0  #as we can see in the previous data string should be converted\n",
        "df"
      ],
      "metadata": {
        "id": "jvNmCqq4rvnx"
      },
      "execution_count": null,
      "outputs": []
    },
    {
      "cell_type": "markdown",
      "source": [
        "7. Replace the empty values in “SQ_FT” with the mean of the all entries."
      ],
      "metadata": {
        "id": "HGNclp2fsAFZ"
      }
    },
    {
      "cell_type": "code",
      "source": [
        "df.info()     #check data type\n",
        "df['SQ_FT']= df['SQ_FT'].astype('float')     #changing to the same datatype\n",
        "mean = df['SQ_FT'].mean()\n",
        "df['SQ_FT'].fillna(mean, inplace=True)          #filling the mean value"
      ],
      "metadata": {
        "id": "GPy6sDTYsG8v"
      },
      "execution_count": null,
      "outputs": []
    },
    {
      "cell_type": "markdown",
      "source": [
        "8. What is the sum of SQ_FT of all entries in the dataset."
      ],
      "metadata": {
        "id": "YQaQtwwzs0NP"
      }
    },
    {
      "cell_type": "code",
      "source": [
        "sum = df['SQ_FT'].sum()      #sum\n",
        "print(sum)"
      ],
      "metadata": {
        "id": "bBTfkIbFs1aX"
      },
      "execution_count": null,
      "outputs": []
    },
    {
      "cell_type": "markdown",
      "source": [
        "9. Add a new column “NUM_STORE” and with all the values as 1 for all rows"
      ],
      "metadata": {
        "id": "9ZpMmxFHs4g0"
      }
    },
    {
      "cell_type": "code",
      "source": [
        "df[\"NUM_STORE\"]=1    #new column named as NUM_STORE\n",
        "df"
      ],
      "metadata": {
        "id": "JmVDVDYBtC4E"
      },
      "execution_count": null,
      "outputs": []
    },
    {
      "cell_type": "markdown",
      "source": [
        "10. Create a DataFrame containing all entries of TN state only"
      ],
      "metadata": {
        "id": "ajwC6-MHtJSO"
      }
    },
    {
      "cell_type": "code",
      "source": [
        "TN_df = df.loc[df.STATE=='TN',:]     #cREATING ONE DATAFRAME FROM another\n",
        "TN_df"
      ],
      "metadata": {
        "id": "c2RESNfhtNWz"
      },
      "execution_count": null,
      "outputs": []
    },
    {
      "cell_type": "markdown",
      "source": [
        "11. Create a DataFrame having SQ_FT area greater than 1000 and display the DataFrame"
      ],
      "metadata": {
        "id": "bw71ZSSPtbit"
      }
    },
    {
      "cell_type": "code",
      "source": [
        "df_SQ_FT_1000 = df.loc[df.SQ_FT>1000,:]      #separate dataframe for squarefeet> 1000\n",
        "df_SQ_FT_1000"
      ],
      "metadata": {
        "id": "7JR1LpP6toqR"
      },
      "execution_count": null,
      "outputs": []
    },
    {
      "cell_type": "markdown",
      "source": [
        "12. Create a DataFrame having only first Three columns and First Three rows"
      ],
      "metadata": {
        "id": "Nx6qXe2yt5Zn"
      }
    },
    {
      "cell_type": "code",
      "source": [
        "df_R3_C3 = df.iloc[:3,:3]    #datfarme from first 3 rows and 3 colmns\n",
        "df_R3_C3"
      ],
      "metadata": {
        "id": "RV68-CkGt9z6"
      },
      "execution_count": null,
      "outputs": []
    },
    {
      "cell_type": "code",
      "source": [
        "df"
      ],
      "metadata": {
        "id": "bu8-P7YVuX58"
      },
      "execution_count": null,
      "outputs": []
    },
    {
      "cell_type": "markdown",
      "source": [
        "13. Display the state having highest average price per square foot of housing area. Hint: Average of\n",
        "(TotalPrice/Sq_Ft)"
      ],
      "metadata": {
        "id": "8AlBPEjFuRC4"
      }
    },
    {
      "cell_type": "code",
      "source": [
        "df['AVG_PRICE_PER_SQFT']=df['PRICE'] / df['SQ_FT']"
      ],
      "metadata": {
        "id": "Sc4bQ7c8uar0"
      },
      "execution_count": null,
      "outputs": []
    },
    {
      "cell_type": "code",
      "source": [
        "df = df.sort_values(by='AVG_PRICE_PER_SQFT', ascending=False)"
      ],
      "metadata": {
        "id": "5ZMQ7MSjukg8"
      },
      "execution_count": null,
      "outputs": []
    },
    {
      "cell_type": "code",
      "source": [
        "df.reset_index(inplace=True, drop=True)"
      ],
      "metadata": {
        "id": "GCVPHJh9uqv7"
      },
      "execution_count": null,
      "outputs": []
    },
    {
      "cell_type": "code",
      "source": [
        "df.loc[0,'STATE']"
      ],
      "metadata": {
        "id": "Ab41gDufureS"
      },
      "execution_count": null,
      "outputs": []
    }
  ]
}